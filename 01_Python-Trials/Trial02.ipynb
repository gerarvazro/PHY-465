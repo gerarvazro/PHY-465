{
 "cells": [
  {
   "cell_type": "code",
   "execution_count": 17,
   "metadata": {},
   "outputs": [
    {
     "name": "stdout",
     "output_type": "stream",
     "text": [
      "[0 1 2 3 4 5 6 7 8 9]\n",
      "[[1. 2. 3.]\n",
      " [4. 5. 6.]\n",
      " [7. 8. 9.]]\n",
      "(10,) (3, 3)\n",
      "0 9.0\n",
      "[0 1 2 3 4 5 6 7 8 9] [ 0  2  4  6  8 10]\n",
      "[  0.           2.04081633   4.08163265   6.12244898   8.16326531\n",
      "  10.20408163  12.24489796  14.28571429  16.32653061  18.36734694\n",
      "  20.40816327  22.44897959  24.48979592  26.53061224  28.57142857\n",
      "  30.6122449   32.65306122  34.69387755  36.73469388  38.7755102\n",
      "  40.81632653  42.85714286  44.89795918  46.93877551  48.97959184\n",
      "  51.02040816  53.06122449  55.10204082  57.14285714  59.18367347\n",
      "  61.2244898   63.26530612  65.30612245  67.34693878  69.3877551\n",
      "  71.42857143  73.46938776  75.51020408  77.55102041  79.59183673\n",
      "  81.63265306  83.67346939  85.71428571  87.75510204  89.79591837\n",
      "  91.83673469  93.87755102  95.91836735  97.95918367 100.        ]\n",
      "[ 0  1  2  3  4  5  6  7  8  9 10 11 12 13 14 15 16 17 18 19 20 21 22 23\n",
      " 24]\n",
      "[[0. 0. 0.]\n",
      " [0. 0. 0.]\n",
      " [0. 0. 0.]]\n",
      "[[3. 3. 3.]\n",
      " [3. 3. 3.]\n",
      " [3. 3. 3.]]\n",
      "[[1. 1. 1.]\n",
      " [1. 1. 1.]]\n",
      "[[-0.5 -0.5 -0.5]\n",
      " [-0.5 -0.5 -0.5]]\n",
      "[[1. 0. 0.]\n",
      " [0. 1. 0.]\n",
      " [0. 0. 1.]]\n",
      "[[4. 3. 3.]\n",
      " [3. 4. 3.]\n",
      " [3. 3. 4.]]\n",
      "[[-0.0144085   0.46685538 -1.05368363  1.01069824  0.2092598  -0.7497125\n",
      "  -0.20101958  0.24882318 -0.15493806 -0.15514858]\n",
      " [-0.05307308  1.73063303 -1.65289992  0.4301444  -0.41846926  0.06656902\n",
      "  -1.04948701  0.67078072 -0.03111299  0.37053316]]\n",
      "[16 16 14  8 10]\n",
      "13\n",
      "[ 4  2  3 13  5]\n",
      "7\n",
      "2.6457513110645907\n",
      "[ 4  2  3 13  5  7]\n"
     ]
    },
    {
     "data": {
      "text/plain": [
       "array([14,  7,  5, 13,  3,  2,  4])"
      ]
     },
     "execution_count": 17,
     "metadata": {},
     "output_type": "execute_result"
    }
   ],
   "source": [
    "import numpy as np\n",
    "a = np.array([0,1,2,3,4,5,6,7,8,9])\n",
    "print (a)\n",
    "b = np.array([[1.,2.,3.],[4.,5.,6.],[7.,8.,9.]]) #matrix\n",
    "print (b)\n",
    "print (a.shape,b.shape) #Dimensions\n",
    "type(a) #Type of array\n",
    "b.dtype #Another way to write it\n",
    "print (np.min(a),np.max(b)) #Min and max of the array\n",
    "a.argmax()\n",
    "c = np.arange(0,10) # Array of integer numbers from 0,9\n",
    "d = np.arange(0,11,2) # Array of integers from 0 to 10 in steps of 2\n",
    "print (c,d)\n",
    "e = np.linspace(0,100,50) # Array of numbers from 0 to 100 with 50 spaces\n",
    "print (e)\n",
    "e.shape\n",
    "f=np.arange(0,25) \n",
    "#print (f)\n",
    "#f.reshape(25,1) #Reshape in columns\n",
    "print (f)\n",
    "#g=np.zeros(3)\n",
    "g=np.zeros(shape=(3,3)) #Matrix with zeros\n",
    "gg = 3. * (g + 1) #Exercise 1\n",
    "print (g)\n",
    "print (gg)\n",
    "h=np.ones(shape=(2,3))\n",
    "print (h)\n",
    "hh=h / 2 - 1.#Exercise 2\n",
    "print (hh)\n",
    "o=np.eye(3) #DIagonal Matrix\n",
    "print (o)\n",
    "oo= o + gg #Exercise 3\n",
    "print(oo)\n",
    "x1 = np.random.randn(2,10) #Ten random numbers from 0. to 2.\n",
    "print (x1)\n",
    "x2 = np.random.randint(0,20,5) #Five random integers from 0 to 20\n",
    "print (x2)\n",
    "#Idexing example. This is choose the number with the index indicated\n",
    "x3 = np.array([4,2,3,13,5,7,14])\n",
    "#x3[3] #The third value of the array (It starts in 0)\n",
    "print(x3[3])\n",
    "#Slicing example\n",
    "#x3[:5] #Taking the first five numbers of the array\n",
    "print(x3[:5])\n",
    "#Extracting a number from the array. This is, it removes all the numbers but the one indicated\n",
    "#x3[-2] #If the index is negative it will start from the last number of the array\n",
    "print(x3[-2])\n",
    "#including evereything but the last member of the array\n",
    "#x3[:-1]\n",
    "s = (x3[-2]) ** 0.5 #Exercise 4\n",
    "print(s)\n",
    "print(x3[:-1])\n",
    "#erase = x3[:-1]\n",
    "#flipping the array\n",
    "x3[::-1]\n",
    "#erase = x3[::-1]\n",
    "\n",
    "\n",
    "\n"
   ]
  },
  {
   "cell_type": "code",
   "execution_count": null,
   "metadata": {},
   "outputs": [],
   "source": []
  }
 ],
 "metadata": {
  "kernelspec": {
   "display_name": "Python 3 (ipykernel)",
   "language": "python",
   "name": "python3"
  },
  "language_info": {
   "codemirror_mode": {
    "name": "ipython",
    "version": 3
   },
   "file_extension": ".py",
   "mimetype": "text/x-python",
   "name": "python",
   "nbconvert_exporter": "python",
   "pygments_lexer": "ipython3",
   "version": "3.11.4"
  },
  "vscode": {
   "interpreter": {
    "hash": "aee8b7b246df8f9039afb4144a1f6fd8d2ca17a180786b69acc140d282b71a49"
   }
  }
 },
 "nbformat": 4,
 "nbformat_minor": 2
}
