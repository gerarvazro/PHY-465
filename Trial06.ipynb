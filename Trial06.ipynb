{
 "cells": [
  {
   "cell_type": "code",
   "execution_count": 35,
   "metadata": {},
   "outputs": [
    {
     "name": "stdout",
     "output_type": "stream",
     "text": [
      "1\n",
      "a\n",
      "b\n",
      "c\n",
      "2\n",
      "a\n",
      "b\n",
      "c\n",
      "3\n",
      "a\n",
      "b\n",
      "c\n"
     ]
    },
    {
     "ename": "TypeError",
     "evalue": "Cannot interpret '5' as a data type",
     "output_type": "error",
     "traceback": [
      "\u001b[0;31m---------------------------------------------------------------------------\u001b[0m",
      "\u001b[0;31mTypeError\u001b[0m                                 Traceback (most recent call last)",
      "Cell \u001b[0;32mIn[35], line 42\u001b[0m\n\u001b[1;32m     39\u001b[0m         \u001b[39mprint\u001b[39m(letter)\n\u001b[1;32m     41\u001b[0m \u001b[39m#Generating a matrix with nested loops\u001b[39;00m\n\u001b[0;32m---> 42\u001b[0m x \u001b[39m=\u001b[39m np\u001b[39m.\u001b[39;49mzeros(\u001b[39m3\u001b[39;49m,\u001b[39m5\u001b[39;49m)\n\u001b[1;32m     43\u001b[0m \u001b[39mfor\u001b[39;00m i \u001b[39min\u001b[39;00m \u001b[39mrange\u001b[39m(\u001b[39m0\u001b[39m,\u001b[39m3\u001b[39m):\n\u001b[1;32m     44\u001b[0m     \u001b[39mfor\u001b[39;00m j \u001b[39min\u001b[39;00m \u001b[39mrange\u001b[39m(\u001b[39m0\u001b[39m,\u001b[39m5\u001b[39m):\n",
      "\u001b[0;31mTypeError\u001b[0m: Cannot interpret '5' as a data type"
     ]
    }
   ],
   "source": [
    "import numpy as np\n",
    "import matplotlib.pyplot as plt\n",
    "from matplotlib import style\n",
    "\n",
    "#for i in range(1,11): # The end of the loop are the two points:\n",
    "#    print(i)\n",
    "#    print('Hello')\n",
    "\n",
    "#for j in range(0,11):\n",
    "#    if j % 2 == 0: #It only selects even numbers\n",
    "#    if j % 2 != 0: #It only selects odd numbers\n",
    "#        print(j)\n",
    "\n",
    "#for k in range(0,1001):\n",
    "#    if k % 15 == 0:\n",
    "#        print(k)\n",
    "\n",
    "#Printing numbers between 0 and 1000 that are divisible by 9 and 19\n",
    "#list=[] #This declaration assign the following procedure to be in the memory\n",
    "#for num in range(1,1000):\n",
    "#    if num % 9 == 0 and num % 19 == 0:\n",
    "#        list.append(num) #This command does the operation to select the points form a list\n",
    "#print(list)\n",
    "\n",
    "#Sum of numbers. It does not record each sum. The result is just one number not an array.\n",
    "#Identation in this case is important because it reflects if the operation is in or outside the loop\n",
    "#sum = 0\n",
    "#for n in range(1,11):\n",
    "#    sum = sum + n*2\n",
    "#    print(sum)\n",
    "#print(sum)\n",
    "\n",
    "num_list = [1, 2, 3]\n",
    "alpha_list = ['a', 'b', 'c']\n",
    "\n",
    "for number in num_list:\n",
    "    print(number)\n",
    "    for letter in alpha_list:\n",
    "        print(letter)\n",
    "\n",
    "#Generating a matrix with nested loops\n",
    "x = np.zeros((3,5))\n",
    "for i in range(0,3):\n",
    "    for j in range(0,5):\n",
    "        x[i][j] = 7\n",
    "print(x)\n"
   ]
  }
 ],
 "metadata": {
  "kernelspec": {
   "display_name": "Python 3",
   "language": "python",
   "name": "python3"
  },
  "language_info": {
   "codemirror_mode": {
    "name": "ipython",
    "version": 3
   },
   "file_extension": ".py",
   "mimetype": "text/x-python",
   "name": "python",
   "nbconvert_exporter": "python",
   "pygments_lexer": "ipython3",
   "version": "3.11.1"
  },
  "orig_nbformat": 4
 },
 "nbformat": 4,
 "nbformat_minor": 2
}
